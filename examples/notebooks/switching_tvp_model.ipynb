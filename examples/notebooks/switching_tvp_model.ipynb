{
 "cells": [
  {
   "cell_type": "markdown",
   "metadata": {},
   "source": [
    "<p>Regime switching Time-Varying-Parameter model in Statsmodels has the following specification (TVP with heteroskedastic disturbances):</p>\n",
    "<p>$$ y_t = \\beta_{1t} x_{1t} + \\beta_{2t} x_{2t} + ... +\n",
    "        \\beta_{kt} x_{kt} + e_t \\\\\n",
    "        \\beta_{it} = \\beta_{i,t-1} + v_{it} \\\\\n",
    "        e_t \\sim N(0, \\sigma_{S_t}^2) \\\\\n",
    "        v_{it} \\sim N(0, \\sigma_{i,S_t}^2) $$</p>\n",
    "<p>where $\\beta_{it}$ are time varying parameters and $x_{it}$ are\n",
    "    exogenous variables. Observation and TVP transition error terms have a switching\n",
    "    variance - $\\sigma_{S_t}^2$ and $\\sigma_{i,S_t}^2$ respectively.\n",
    "    $S_t$ is a regime at the moment $t$.</p>\n",
    "<p>Presented code uses this model for modelling U.S. monetary growth uncertainty (chapter 5.5.1 of Kim and Nelson, 1999).</p>\n",
    "<p>See also http://econ.korea.ac.kr/~cjkim/MARKOV/programs/tvpmrkf.opt - the same model implementation used for testing.</p>"
   ]
  },
  {
   "cell_type": "code",
   "execution_count": null,
   "metadata": {
    "collapsed": true
   },
   "outputs": [],
   "source": [
    "\"\"\"\n",
    "Kim's (1993) time-varying-parameter model with heteroskedastic disturbances\n",
    "for U.S. monetary growth uncertainty (chapter 5.5.1 of Kim and Nelson, 1999).\n",
    "\n",
    "Author: Valery Likhosherstov\n",
    "License: Simplified-BSD\n",
    "\"\"\"\n",
    "\n",
    "import numpy as np\n",
    "from statsmodels.tsa.statespace.regime_switching.api import SwitchingTVPModel\n",
    "from statsmodels.tsa.statespace.regime_switching.tests.results import results_kim1993\n",
    "\n",
    "dtype = np.float64\n",
    "\n",
    "true = results_kim1993.tvpmrkf\n",
    "start = true['start']\n",
    "\n",
    "# Model attributes\n",
    "k_regimes = 2\n",
    "k_exog = 5\n",
    "\n",
    "# Preparing data\n",
    "\n",
    "endog = np.array(true['data']['m1'], dtype=dtype)\n",
    "\n",
    "exog = np.zeros((endog.shape[0], k_exog), dtype=dtype)\n",
    "\n",
    "exog[:, 0] = 1\n",
    "exog[:, 1] = true['data']['dint']\n",
    "exog[:, 2] = true['data']['inf']\n",
    "exog[:, 3] = true['data']['surp']\n",
    "exog[:, 4] = true['data']['m1lag']\n",
    "\n",
    "# Instantiate the model\n",
    "model = SwitchingTVPModel(k_regimes, endog, exog, dtype=dtype, loglikelihood_burn=start)\n",
    "\n",
    "# Set model initial states\n",
    "model.initialize_known(np.zeros(k_exog, dtype=dtype), np.identity(k_exog, dtype=dtype) * 100)"
   ]
  },
  {
   "cell_type": "code",
   "execution_count": null,
   "metadata": {
    "collapsed": false
   },
   "outputs": [],
   "source": [
    "# Fit the model from start parameters, used by authors\n",
    "results = model.fit(start_params=np.array(true['start_parameters'], dtype=dtype))\n",
    "\n",
    "# Print results summary\n",
    "print(results.summary())"
   ]
  },
  {
   "cell_type": "code",
   "execution_count": null,
   "metadata": {
    "collapsed": false
   },
   "outputs": [],
   "source": [
    "%matplotlib inline\n",
    "\n",
    "# Plot time varying parameters\n",
    "plot = results.plot_coefficient(variables=range(k_exog), figsize=(8,10))"
   ]
  },
  {
   "cell_type": "code",
   "execution_count": null,
   "metadata": {
    "collapsed": false
   },
   "outputs": [],
   "source": [
    "# Fit the model, using non-switching start feature\n",
    "results = model.fit(fit_nonswitching_first=True)\n",
    "\n",
    "# Print results summary\n",
    "print(results.summary())"
   ]
  },
  {
   "cell_type": "markdown",
   "metadata": {},
   "source": [
    "<h1>References</h1>\n",
    "<p>Kim, Chang-Jin, and Charles R. Nelson. 1999.<br>\n",
    "\"State-Space Models with Regime Switching: Classical and Gibbs-Sampling Approaches with Applications\".<br>\n",
    "MIT Press Books. The MIT Press.</p>"
   ]
  }
 ],
 "metadata": {
  "kernelspec": {
   "display_name": "Python 2",
   "language": "python",
   "name": "python2"
  },
  "language_info": {
   "codemirror_mode": {
    "name": "ipython",
    "version": 2
   },
   "file_extension": ".py",
   "mimetype": "text/x-python",
   "name": "python",
   "nbconvert_exporter": "python",
   "pygments_lexer": "ipython2",
   "version": "2.7.10"
  }
 },
 "nbformat": 4,
 "nbformat_minor": 0
}
