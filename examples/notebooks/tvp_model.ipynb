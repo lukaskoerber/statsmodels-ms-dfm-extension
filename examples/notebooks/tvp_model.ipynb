{
 "cells": [
  {
   "cell_type": "markdown",
   "metadata": {},
   "source": [
    "<p>TVP model's specification is as follows:</p>\n",
    "<p>$$ y_t = \\beta_{1t} x_{1t} + \\beta_{2t} x_{2t} + ... + \\beta_{kt} x_{kt} + e_t \\\\\n",
    "        \\beta_{it} = \\beta_{i,t-1} + v_{it} \\\\\n",
    "        e_t \\sim N(0, \\sigma^2) \\\\\n",
    "        v_{it} \\sim N(0, \\sigma_i^2) $$</p>\n",
    "<p>where $y_t$ is a process, $\\beta_{it}$ are time varying parameters.</p>\n",
    "<p>Presented code uses this model for modelling changing conditional variance of uncertainty in the U.S. monetary growth (chapter 3.4 of Kim and Nelson, 1999).</p>\n",
    "<p>See also http://econ.korea.ac.kr/~cjkim/MARKOV/programs/tvp.opt - the same model implementation used to test this code against.</p>"
   ]
  },
  {
   "cell_type": "code",
   "execution_count": 1,
   "metadata": {
    "collapsed": false
   },
   "outputs": [],
   "source": [
    "\"\"\"\n",
    "Kim and Nelson's (1989) time-varying-parameter model for modelling changing\n",
    "conditional variance of uncertainty in the U.S. monetary growth (chapter\n",
    "3.4 of Kim and Nelson, 1999).\n",
    "\n",
    "Author: Valery Likhosherstov\n",
    "License: Simplified-BSD\n",
    "\"\"\"\n",
    "\n",
    "import numpy as np\n",
    "from statsmodels.tsa.statespace.tvp import TVPModel\n",
    "from statsmodels.tsa.statespace.tests.results import results_tvp\n",
    "\n",
    "dtype = np.float64\n",
    "\n",
    "true = results_tvp.tvp\n",
    "start = true['start']\n",
    "\n",
    "# Model attributes\n",
    "k_exog = 5\n",
    "\n",
    "# Preparing endog and exog data\n",
    "\n",
    "endog = np.array(true['data']['m1'], dtype=dtype)\n",
    "\n",
    "exog = np.zeros((endog.shape[0], k_exog), dtype=dtype)\n",
    "\n",
    "exog[:, 0] = 1\n",
    "exog[:, 1] = true['data']['dint']\n",
    "exog[:, 2] = true['data']['inf']\n",
    "exog[:, 3] = true['data']['surpl']\n",
    "exog[:, 4] = true['data']['m1lag']\n",
    "\n",
    "# Instantiate the model\n",
    "model = TVPModel(endog, exog=exog, dtype=dtype, alternate_timing=True,\n",
    "                 loglikelihood_burn=start)\n",
    "\n",
    "# Authors use the following initialization\n",
    "model.initialize_known(np.zeros(k_exog, dtype=dtype),\n",
    "        np.identity(k_exog, dtype=dtype) * 50)\n",
    "\n",
    "# Fit the model from start parameters, used by authors\n",
    "results = model.fit(np.array(np.array(true['untransformed_start_parameters']), dtype=dtype))"
   ]
  },
  {
   "cell_type": "code",
   "execution_count": 2,
   "metadata": {
    "collapsed": false
   },
   "outputs": [],
   "source": [
    "# Print results summary\n",
    "print(results.summary())"
   ]
  },
  {
   "cell_type": "code",
   "execution_count": 4,
   "metadata": {
    "collapsed": false
   },
   "outputs": [],
   "source": [
    "%matplotlib inline\n",
    "\n",
    "# Plot time varying parameters\n",
    "plot = results.plot_coefficient(variables=range(k_exog), figsize=(8,10))"
   ]
  },
  {
   "cell_type": "markdown",
   "metadata": {},
   "source": [
    "<h1>References</h1>\n",
    "<p>Kim, Chang-Jin, and Charles R. Nelson. 1999.<br>\n",
    "\"State-Space Models with Regime Switching: Classical and Gibbs-Sampling Approaches with Applications\".<br>\n",
    "MIT Press Books. The MIT Press.</p>"
   ]
  }
 ],
 "metadata": {
  "kernelspec": {
   "display_name": "Python 2",
   "language": "python",
   "name": "python2"
  },
  "language_info": {
   "codemirror_mode": {
    "name": "ipython",
    "version": 2
   },
   "file_extension": ".py",
   "mimetype": "text/x-python",
   "name": "python",
   "nbconvert_exporter": "python",
   "pygments_lexer": "ipython2",
   "version": "2.7.10"
  }
 },
 "nbformat": 4,
 "nbformat_minor": 0
}
