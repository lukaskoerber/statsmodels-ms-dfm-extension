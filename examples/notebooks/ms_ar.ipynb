{
 "cells": [
  {
   "cell_type": "markdown",
   "metadata": {},
   "source": [
    "<p>Markov switching autoregression model in <code>statespace.regime_switching</code> module has the following specification:</p>\n",
    "<p>$$ \\phi_{S_t}(L)(y_t - \\mu_{S_t} - x_t' \\beta_t) = e_t \\\\\n",
    "        e_t \\sim N(0, \\sigma_{S_t}^2) $$</p>\n",
    "<p>Where $\\phi_{S_t}$ is a regime switching lag polynomial, $y_t$ is an observed process, $\\mu_{S_t}$ is a switching intercept, $x_t$ is exogenous vector , $\\beta_t$ are exogenous regressors and $e_t$ is a white noise. Switching objects in the specification can optionally be used without switching.</p>\n",
    "<p>Presented code uses this model for business fluctuations modelling (chapter 4.4 of Kim and Nelson, 1999). Only intercept terms are switching in this case.</p>\n",
    "<p>See also http://econ.korea.ac.kr/~cjkim/MARKOV/programs/hmt4_kim.opt - the same model implementation used for testing.</p>"
   ]
  },
  {
   "cell_type": "code",
   "execution_count": null,
   "metadata": {
    "collapsed": false
   },
   "outputs": [],
   "source": [
    "\"\"\"\n",
    "Hamilton's (1989) Markov-Switching Model of Business Fluctuations (chapter 4.4 of Kim and Nelson, 1999)\n",
    "\n",
    "Author: Valery Likhosherstov\n",
    "License: Simplified-BSD\n",
    "\"\"\"\n",
    "\n",
    "import numpy as np\n",
    "from statsmodels.tsa.statespace.regime_switching.api import MarkovAutoregression\n",
    "from statsmodels.tsa.statespace.regime_switching.tests.results import results_hamilton1989\n",
    "\n",
    "dtype = np.float64\n",
    "\n",
    "# Model attributes\n",
    "\n",
    "# The number of Markov switching autoregression regimes. Note, that this\n",
    "# is different from the number of regimes, used internally in state-space\n",
    "# model.\n",
    "k_ar_regimes = 2\n",
    "\n",
    "# Autoregression order\n",
    "order = 4\n",
    "\n",
    "true = results_hamilton1989.hmt4_kim\n",
    "\n",
    "# Preparing observations\n",
    "data = np.array(true['data'], dtype=dtype)\n",
    "data = np.log(data) * 100\n",
    "\n",
    "obs = data[20:152] - data[19:151]\n",
    "\n",
    "# Instantiate MS-AR model with switching mean\n",
    "model = MarkovAutoregression(k_ar_regimes, order, obs, switching_mean=True, dtype=dtype)"
   ]
  },
  {
   "cell_type": "code",
   "execution_count": null,
   "metadata": {
    "collapsed": false
   },
   "outputs": [],
   "source": [
    "# Fit the model from start parameters, used by authors.\n",
    "# Note, that it takes some time to converge.\n",
    "results = model.fit(start_params=np.array(true['untransformed_start_parameters'], dtype=dtype),\n",
    "        transformed=False)\n",
    "\n",
    "# Print the summary\n",
    "print(results.summary())"
   ]
  },
  {
   "cell_type": "code",
   "execution_count": null,
   "metadata": {
    "collapsed": false
   },
   "outputs": [],
   "source": [
    "# EM-algorithm feature for Markov autoregression model.\n",
    "\n",
    "\n",
    "# This method, by default, runs 50 sessions of EM-algorithm from random starts with 5 iterations each.\n",
    "# (It takes some time to run this code)\n",
    "params = model.fit_em_with_random_starts()\n",
    "\n",
    "# Get the results object\n",
    "em_results = model.smooth(params)\n",
    "\n",
    "# Print the summary\n",
    "print(em_results.summary())"
   ]
  },
  {
   "cell_type": "code",
   "execution_count": null,
   "metadata": {
    "collapsed": false
   },
   "outputs": [],
   "source": [
    "%matplotlib inline\n",
    "from matplotlib import pyplot as plt\n",
    "\n",
    "# Example of prediction and forecasting\n",
    "\n",
    "# observation period\n",
    "years = np.arange(1947.25, 1996, 0.25)[20:152]\n",
    "\n",
    "# Forecast until\n",
    "forecast_end = 2000\n",
    "\n",
    "# Range of years for forecast\n",
    "forecast_years = np.arange(years[-1] + 0.25, forecast_end, 0.25)\n",
    "\n",
    "# Perform prediction and forecasting\n",
    "predict = results.get_prediction()\n",
    "forecast = results.get_forecast(steps=forecast_years.shape[0])\n",
    "\n",
    "# Plot prediction and forecast\n",
    "\n",
    "fig, ax = plt.subplots(figsize=(10,4))\n",
    "\n",
    "ax.plot(years, obs, 'k.', label='Observations')\n",
    "\n",
    "# Cut `order` prefix from `years` range, since in Markov autoregression uses\n",
    "# first `order` observations for initialization\n",
    "ax.plot(years[order:], predict.predicted_mean, label='One-step-ahead Prediction')\n",
    "predict_ci = predict.conf_int(alpha=0.05)\n",
    "ax.fill_between(years[order:], predict_ci.iloc[:, 0], predict_ci.iloc[:, 1], alpha=0.1)\n",
    "\n",
    "ax.plot(forecast_years, forecast.predicted_mean, 'r', label='Forecast')\n",
    "forecast_ci = forecast.conf_int()\n",
    "ax.fill_between(forecast_years, forecast_ci.iloc[:, 0], forecast_ci.iloc[:, 1], alpha=0.1)\n",
    "\n",
    "ax.set_ylim((-14, 8))\n",
    "legend = ax.legend(loc='lower left');"
   ]
  },
  {
   "cell_type": "markdown",
   "metadata": {},
   "source": [
    "<h1>References</h1>\n",
    "<p>Kim, Chang-Jin, and Charles R. Nelson. 1999.<br>\n",
    "\"State-Space Models with Regime Switching: Classical and Gibbs-Sampling Approaches with Applications\".<br>\n",
    "MIT Press Books. The MIT Press.</p>"
   ]
  }
 ],
 "metadata": {
  "kernelspec": {
   "display_name": "Python 2",
   "language": "python",
   "name": "python2"
  },
  "language_info": {
   "codemirror_mode": {
    "name": "ipython",
    "version": 2
   },
   "file_extension": ".py",
   "mimetype": "text/x-python",
   "name": "python",
   "nbconvert_exporter": "python",
   "pygments_lexer": "ipython2",
   "version": "2.7.10"
  }
 },
 "nbformat": 4,
 "nbformat_minor": 0
}
